{
  "nbformat": 4,
  "nbformat_minor": 0,
  "metadata": {
    "colab": {
      "provenance": [],
      "authorship_tag": "ABX9TyOc4sYV8pEbRx2lmvnDsksW",
      "include_colab_link": true
    },
    "kernelspec": {
      "name": "python3",
      "display_name": "Python 3"
    },
    "language_info": {
      "name": "python"
    }
  },
  "cells": [
    {
      "cell_type": "markdown",
      "metadata": {
        "id": "view-in-github",
        "colab_type": "text"
      },
      "source": [
        "<a href=\"https://colab.research.google.com/github/charanbigPP/main/blob/main/plot.ipynb\" target=\"_parent\"><img src=\"https://colab.research.google.com/assets/colab-badge.svg\" alt=\"Open In Colab\"/></a>"
      ]
    },
    {
      "cell_type": "code",
      "source": [
        "import pandas as pd \n",
        "data=pd.read_excel(r'mtcars.xlsx')\n",
        "print(data)"
      ],
      "metadata": {
        "colab": {
          "base_uri": "https://localhost:8080/"
        },
        "id": "IQCT3zZBZ6mk",
        "outputId": "7c42157b-1f49-4f5c-cafb-741c0246cdfe"
      },
      "execution_count": 3,
      "outputs": [
        {
          "output_type": "stream",
          "name": "stdout",
          "text": [
            "    sl.no Variables                                        Description  \\\n",
            "0       1       mpg                                   miles/(US)gallon   \n",
            "1       2       cyl                                number of cylinders   \n",
            "2       3      disp                               Displacement(cu.in.)   \n",
            "3       4        hp                                   Gross horsepower   \n",
            "4       5      drat                                    Rear axle ratio   \n",
            "5       6       wt                                    Weight(1000 lbs)   \n",
            "6       7      qsec  fastest time to travel 1/4 mile from standstil...   \n",
            "7       8        vs                      engine cylinder configuration   \n",
            "8       9        am                                 Transmission Type    \n",
            "9      10      gear                            Number of forward gears   \n",
            "10     11     carbs                             Number of carburetors    \n",
            "\n",
            "                                           Categories  \n",
            "0                                                 NaN  \n",
            "1                                               4,6,8  \n",
            "2                                                 NaN  \n",
            "3                                                 NaN  \n",
            "4                                                 NaN  \n",
            "5                                                 NaN  \n",
            "6                                                 NaN  \n",
            "7                    0,1 (0-V-shape;1 - straight line  \n",
            "8                           0,1(0-automatic;1-manual)  \n",
            "9   3,4,5 manual transmissions have either 4 or 5 ...  \n",
            "10                                    1,2,3,4,5,6,7,8  \n"
          ]
        }
      ]
    },
    {
      "cell_type": "code",
      "source": [
        "import seaborn as sns\n",
        "sns.scatterplot(data['Variables'],data['Categories'])"
      ],
      "metadata": {
        "colab": {
          "base_uri": "https://localhost:8080/",
          "height": 351
        },
        "id": "V4iUm02GaBTJ",
        "outputId": "c29973ea-a3a9-4790-d142-d524f6642e19"
      },
      "execution_count": 4,
      "outputs": [
        {
          "output_type": "stream",
          "name": "stderr",
          "text": [
            "/usr/local/lib/python3.7/dist-packages/seaborn/_decorators.py:43: FutureWarning: Pass the following variables as keyword args: x, y. From version 0.12, the only valid positional argument will be `data`, and passing other arguments without an explicit keyword will result in an error or misinterpretation.\n",
            "  FutureWarning\n"
          ]
        },
        {
          "output_type": "execute_result",
          "data": {
            "text/plain": [
              "<matplotlib.axes._subplots.AxesSubplot at 0x7f83a2a31510>"
            ]
          },
          "metadata": {},
          "execution_count": 4
        },
        {
          "output_type": "display_data",
          "data": {
            "text/plain": [
              "<Figure size 432x288 with 1 Axes>"
            ],
            "image/png": "[encoded data removed]"
          },
          "metadata": {
            "needs_background": "light"
          }
        }
      ]
    },
    {
      "cell_type": "code",
      "source": [],
      "metadata": {
        "id": "3mhdPVsNaEf5"
      },
      "execution_count": null,
      "outputs": []
    }
  ]
}